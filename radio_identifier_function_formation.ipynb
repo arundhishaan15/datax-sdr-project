{
 "cells": [
  {
   "cell_type": "markdown",
   "metadata": {},
   "source": [
    "# AIM - To create a ML model to identify FM stations\n",
    "\n",
    "Python version used -> python 3\n",
    "\n",
    "# Step - 1\n",
    "## Run RTL_power command \n",
    "\n",
    "Install GQRX software then connect RTL_SDR dongle and open terminal.\n",
    "\n",
    "Note : Following command only works for Linux and Mac OS.\n",
    "\n",
    "COMMAND -> rtl_power -f min:max:bin -g gain -i interval -e runtime filename.ext\n",
    "where\n",
    "min is initial frequency\n",
    "max is terminal frequency\n",
    "bin is frequency interval\n",
    "interval in seconds\n",
    "\n",
    "COMMAND I USED - \n",
    "\n",
    "rtl_power -f 87M:108M:1k -g 20 -i 10 -e 5m logfile.csv\n",
    "\n",
    "All the data is stored in a csv file logfile.csv."
   ]
  },
  {
   "cell_type": "markdown",
   "metadata": {},
   "source": [
    "# Step - 2\n",
    "## Data cleaning \n",
    "\n",
    "We will now convert obtained csv into a desireable pandas dataframe"
   ]
  },
  {
   "cell_type": "code",
   "execution_count": 1,
   "metadata": {
    "collapsed": true
   },
   "outputs": [],
   "source": [
    "import numpy as np\n",
    "import pandas as pd\n",
    "dfs = pd.read_csv(\"logfile.csv\", header=None)"
   ]
  },
  {
   "cell_type": "code",
   "execution_count": 3,
   "metadata": {
    "collapsed": true
   },
   "outputs": [],
   "source": [
    "def conversion_function(df):    \n",
    "    x=[] # Stores all the frequencies\n",
    "    y=[] # Stores corresponding power value\n",
    "    z=[] # Stores is_FM, if 1 then yes, if 0 then no\n",
    "\n",
    "    # following array contains all BAY AREA FM STATIONS\n",
    "    arr = [87.9, 88.1, 88.5, 89.1, 89.3, 89.5, 89.7, 89.9, 90.1, 90.3, 90.5, 90.7, 91.1, 91.5, 91.7, 92.1, 92.3, 92.7, 93.3, 94.1, 94.5, 94.9, 95.3, 95.7, 96.1, 96.5, 97.3, 98.1, 98.5, 98.9, 99.7, 100.3, 101.3, 101.7, 102.1, 102.9, 103.3, 103.7, 104.5, 104.9, 105.3, 105.7, 106.1, 106.5, 106.9, 107.7]\n",
    "\n",
    "    #following code makes 3 lists, x-> freq,y-> power, z-> Is_FM?\n",
    "    for j in range(0,len(df)):\n",
    "        for i in range(6,4103):\n",
    "            y.append(float(df[i][j]))\n",
    "            r = (df[3][j]-df[2][j])/4096\n",
    "            temp = df[3][j]+(r*(i-6))\n",
    "            x.append(temp)\n",
    "            check = round(temp/100000)\n",
    "            check = int(check)\n",
    "            check = float(check/10)\n",
    "            n=0\n",
    "            if(check in arr):\n",
    "                n=1\n",
    "            z.append(int(n))\n",
    "    df = pd.DataFrame({\"Frequency\":x,\"Power\":y,\"Is_FM\":z})\n",
    "    return df"
   ]
  },
  {
   "cell_type": "code",
   "execution_count": 4,
   "metadata": {},
   "outputs": [
    {
     "name": "stdout",
     "output_type": "stream",
     "text": [
      "Wall time: 1min 52s\n"
     ]
    }
   ],
   "source": [
    "%%time\n",
    "dfs = conversion_function(dfs)"
   ]
  },
  {
   "cell_type": "markdown",
   "metadata": {},
   "source": [
    "# Step 3 - \n",
    "## Train all the classification models to find the best one\n",
    "\n",
    "Note -  For training, frequency range is from 87 MHz to 108 MHz"
   ]
  },
  {
   "cell_type": "code",
   "execution_count": 6,
   "metadata": {},
   "outputs": [
    {
     "name": "stdout",
     "output_type": "stream",
     "text": [
      "Wall time: 702 ms\n"
     ]
    },
    {
     "name": "stderr",
     "output_type": "stream",
     "text": [
      "D:\\python\\lib\\site-packages\\sklearn\\cross_validation.py:41: DeprecationWarning: This module was deprecated in version 0.18 in favor of the model_selection module into which all the refactored classes and functions are moved. Also note that the interface of the new CV iterators are different from that of this module. This module will be removed in 0.20.\n",
      "  \"This module will be removed in 0.20.\", DeprecationWarning)\n"
     ]
    }
   ],
   "source": [
    "%%time\n",
    "from sklearn.neighbors import KNeighborsClassifier\n",
    "\n",
    "from sklearn.metrics import accuracy_score\n",
    "from sklearn.model_selection import train_test_split\n",
    "import warnings\n",
    "warnings.filterwarnings(\"ignore\")"
   ]
  },
  {
   "cell_type": "code",
   "execution_count": 7,
   "metadata": {
    "collapsed": true
   },
   "outputs": [],
   "source": [
    "X = dfs.drop('Is_FM', axis=1)\n",
    "y = dfs['Is_FM']"
   ]
  },
  {
   "cell_type": "code",
   "execution_count": 8,
   "metadata": {},
   "outputs": [
    {
     "name": "stdout",
     "output_type": "stream",
     "text": [
      "Using Logistic regression -\n",
      "Training accuracy : 80.9555772516 %\n",
      "Using KNN -\n",
      "Training accuracy : 100.0 %\n",
      "Using Perceptron -\n",
      "Training accuracy : 80.9555772516 %\n",
      "Using XGBoost -\n",
      "Training accuracy : 100.0 %\n",
      "Wall time: 5min 57s\n"
     ]
    }
   ],
   "source": [
    "%%time\n",
    "\n",
    "knn = KNeighborsClassifier(n_neighbors = 3)\n",
    "knn.fit(X, y)\n",
    "\n",
    "y_predict = knn.predict(X)\n",
    "print(\"Using KNN -\\nTraining accuracy :\",accuracy_score(y,y_predict)*100,\"%\")"
   ]
  },
  {
   "cell_type": "code",
   "execution_count": null,
   "metadata": {
    "collapsed": true
   },
   "outputs": [],
   "source": [
    "from sklearn.externals import joblib\n",
    "joblib.dump(knn, 'findingFMstations_trainedmodel.pkl') "
   ]
  },
  {
   "cell_type": "markdown",
   "metadata": {},
   "source": [
    "# Step - 4\n",
    "## Testing with test data in frequency range 87MHz to 108MHz\n",
    "\n",
    "Command used to generate file -\n",
    "\n",
    "rtl_power -f 87M:108M:1k -g 20 -i 10 -e 5m lgfile.csv\n",
    "\n",
    "Generating list of fm stations recognised -"
   ]
  },
  {
   "cell_type": "code",
   "execution_count": 2,
   "metadata": {
    "collapsed": true
   },
   "outputs": [],
   "source": [
    "from sklearn.externals import joblib\n",
    "knn = joblib.load('findingFMstations_trainedmodel.pkl')\n",
    "dfs = pd.read_csv(\"logfile2.csv\", header=None)"
   ]
  },
  {
   "cell_type": "code",
   "execution_count": 3,
   "metadata": {
    "collapsed": true
   },
   "outputs": [],
   "source": [
    "def conv_func(df):\n",
    "    x=[] # Stores all the frequencies\n",
    "    y=[] # Stores corresponding power value\n",
    "    \n",
    "    for j in range(0,len(df)):\n",
    "        for i in range(6,4103):\n",
    "            y.append(float(df[i][j]))\n",
    "            r = (df[3][j]-df[2][j])/4096\n",
    "            temp = df[3][j]+(r*(i-6))\n",
    "            x.append(temp)\n",
    "    df = pd.DataFrame({\"Frequency\":x,\"Power\":y})\n",
    "    return df"
   ]
  },
  {
   "cell_type": "code",
   "execution_count": 4,
   "metadata": {},
   "outputs": [
    {
     "name": "stdout",
     "output_type": "stream",
     "text": [
      "Wall time: 30.5 s\n"
     ]
    }
   ],
   "source": [
    "%%time\n",
    "dfs = conv_func(dfs)"
   ]
  },
  {
   "cell_type": "code",
   "execution_count": 6,
   "metadata": {},
   "outputs": [
    {
     "name": "stdout",
     "output_type": "stream",
     "text": [
      "Wall time: 1.47 s\n"
     ]
    }
   ],
   "source": [
    "%%time\n",
    "y_predict3 = knn.predict(dfs)"
   ]
  },
  {
   "cell_type": "code",
   "execution_count": 70,
   "metadata": {
    "collapsed": true
   },
   "outputs": [],
   "source": [
    "y_predict33 = knn.predict(dfs1)"
   ]
  },
  {
   "cell_type": "code",
   "execution_count": 71,
   "metadata": {},
   "outputs": [
    {
     "name": "stdout",
     "output_type": "stream",
     "text": [
      "Wall time: 7.62 s\n"
     ]
    }
   ],
   "source": [
    "%%time\n",
    "l3=[]\n",
    "for i in range(0,len(y_predict3)):\n",
    "    num = round(dfs[\"Frequency\"][i]/100000)\n",
    "    num = int(num)\n",
    "    num = float(num/10)\n",
    "    if(y_predict3[i]==1):\n",
    "        if(not num in l3):\n",
    "            l3.append(num)"
   ]
  },
  {
   "cell_type": "code",
   "execution_count": 76,
   "metadata": {
    "collapsed": true
   },
   "outputs": [],
   "source": [
    "#Bay Area FM Radio Station\n",
    "radio = [87.9, 88.1, 88.5, 89.1, 89.3, 89.5, 89.7, 89.9, 90.1, 90.3, 90.5, 90.7, 91.1, 91.5, 91.7, 92.1, 92.3, 92.7, 93.3, 94.1, 94.5, 94.9, 95.3, 95.7, 96.1, 96.5, 97.3, 98.1, 98.5, 98.9, 99.7, 100.3, 101.3, 101.7, 102.1, 102.9, 103.3, 103.7, 104.5, 104.9, 105.3, 105.7, 106.1, 106.5, 106.9, 107.7]"
   ]
  },
  {
   "cell_type": "code",
   "execution_count": 77,
   "metadata": {},
   "outputs": [
    {
     "name": "stdout",
     "output_type": "stream",
     "text": [
      "XGBOOST found 40 radio stations out of which actual Bay Area FM Radio Station are 40 \n",
      "And 40 stations were found out of 46 Bay Area FM Radio Station\n",
      "XGBOOST accuracy - 100.0 %\n",
      "KNN model found 40 radio stations out of which actual Bay Area FM Radio Station are 40 \n",
      "And 40 stations were found out of 46 Bay Area FM Radio Station\n",
      "KNN model accuracy - 100.0 %\n"
     ]
    }
   ],
   "source": [
    "ctr= 0\n",
    "for i in range (0,len(l1)):\n",
    "    if(l1[i] in radio):\n",
    "        ctr=ctr+1\n",
    "print(\"For \")\n",
    "print(\"XGBOOST found\", len(l1),\"radio stations out of which actual Bay Area FM Radio Station are\",ctr,\"\\nAnd\",ctr,\"stations were found out of\",len(radio),\"Bay Area FM Radio Station\\nXGBOOST accuracy -\",ctr/len(l1)*100,\"%\")\n",
    "ctr=0\n",
    "for i in range (0,len(l3)):\n",
    "    if(l3[i] in radio):\n",
    "        ctr=ctr+1\n",
    "print(\"KNN model found\", len(l3),\"radio stations out of which actual Bay Area FM Radio Station are\",ctr,\"\\nAnd\",ctr,\"stations were found out of\",len(radio),\"Bay Area FM Radio Station\\nKNN model accuracy -\",ctr/len(l3)*100,\"%\")"
   ]
  },
  {
   "cell_type": "code",
   "execution_count": null,
   "metadata": {
    "collapsed": true
   },
   "outputs": [],
   "source": []
  }
 ],
 "metadata": {
  "kernelspec": {
   "display_name": "Python 3",
   "language": "python",
   "name": "python3"
  },
  "language_info": {
   "codemirror_mode": {
    "name": "ipython",
    "version": 3
   },
   "file_extension": ".py",
   "mimetype": "text/x-python",
   "name": "python",
   "nbconvert_exporter": "python",
   "pygments_lexer": "ipython3",
   "version": "3.6.3"
  }
 },
 "nbformat": 4,
 "nbformat_minor": 2
}
